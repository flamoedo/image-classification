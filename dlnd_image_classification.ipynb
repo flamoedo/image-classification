{
 "cells": [
  {
   "cell_type": "markdown",
   "metadata": {
    "collapsed": true
   },
   "source": [
    "# Image Classification\n",
    "In this project, you'll classify images from the [CIFAR-10 dataset](https://www.cs.toronto.edu/~kriz/cifar.html).  The dataset consists of airplanes, dogs, cats, and other objects. You'll preprocess the images, then train a convolutional neural network on all the samples. The images need to be normalized and the labels need to be one-hot encoded.  You'll get to apply what you learned and build a convolutional, max pooling, dropout, and fully connected layers.  At the end, you'll get to see your neural network's predictions on the sample images.\n",
    "## Get the Data\n",
    "Run the following cell to download the [CIFAR-10 dataset for python](https://www.cs.toronto.edu/~kriz/cifar-10-python.tar.gz)."
   ]
  },
  {
   "cell_type": "code",
   "execution_count": 55,
   "metadata": {},
   "outputs": [
    {
     "name": "stdout",
     "output_type": "stream",
     "text": [
      "All files found!\n"
     ]
    }
   ],
   "source": [
    "\"\"\"\n",
    "DON'T MODIFY ANYTHING IN THIS CELL THAT IS BELOW THIS LINE\n",
    "\"\"\"\n",
    "from urllib.request import urlretrieve\n",
    "from os.path import isfile, isdir\n",
    "from tqdm import tqdm\n",
    "import problem_unittests as tests\n",
    "import tarfile\n",
    "\n",
    "cifar10_dataset_folder_path = 'cifar-10-batches-py'\n",
    "\n",
    "# Use Floyd's cifar-10 dataset if present\n",
    "floyd_cifar10_location = '/input/cifar-10/python.tar.gz'\n",
    "if isfile(floyd_cifar10_location):\n",
    "    tar_gz_path = floyd_cifar10_location\n",
    "else:\n",
    "    tar_gz_path = 'cifar-10-python.tar.gz'\n",
    "\n",
    "class DLProgress(tqdm):\n",
    "    last_block = 0\n",
    "\n",
    "    def hook(self, block_num=1, block_size=1, total_size=None):\n",
    "        self.total = total_size\n",
    "        self.update((block_num - self.last_block) * block_size)\n",
    "        self.last_block = block_num\n",
    "\n",
    "if not isfile(tar_gz_path):\n",
    "    with DLProgress(unit='B', unit_scale=True, miniters=1, desc='CIFAR-10 Dataset') as pbar:\n",
    "        urlretrieve(\n",
    "            'https://www.cs.toronto.edu/~kriz/cifar-10-python.tar.gz',\n",
    "            tar_gz_path,\n",
    "            pbar.hook)\n",
    "\n",
    "if not isdir(cifar10_dataset_folder_path):\n",
    "    with tarfile.open(tar_gz_path) as tar:\n",
    "        tar.extractall()\n",
    "        tar.close()\n",
    "\n",
    "\n",
    "tests.test_folder_path(cifar10_dataset_folder_path)"
   ]
  },
  {
   "cell_type": "markdown",
   "metadata": {},
   "source": [
    "## Explore the Data\n",
    "The dataset is broken into batches to prevent your machine from running out of memory.  The CIFAR-10 dataset consists of 5 batches, named `data_batch_1`, `data_batch_2`, etc.. Each batch contains the labels and images that are one of the following:\n",
    "* airplane\n",
    "* automobile\n",
    "* bird\n",
    "* cat\n",
    "* deer\n",
    "* dog\n",
    "* frog\n",
    "* horse\n",
    "* ship\n",
    "* truck\n",
    "\n",
    "Understanding a dataset is part of making predictions on the data.  Play around with the code cell below by changing the `batch_id` and `sample_id`. The `batch_id` is the id for a batch (1-5). The `sample_id` is the id for a image and label pair in the batch.\n",
    "\n",
    "Ask yourself \"What are all possible labels?\", \"What is the range of values for the image data?\", \"Are the labels in order or random?\".  Answers to questions like these will help you preprocess the data and end up with better predictions."
   ]
  },
  {
   "cell_type": "code",
   "execution_count": 56,
   "metadata": {},
   "outputs": [
    {
     "name": "stdout",
     "output_type": "stream",
     "text": [
      "\n",
      "Stats of batch 1:\n",
      "Samples: 10000\n",
      "Label Counts: {0: 1005, 1: 974, 2: 1032, 3: 1016, 4: 999, 5: 937, 6: 1030, 7: 1001, 8: 1025, 9: 981}\n",
      "First 20 Labels: [6, 9, 9, 4, 1, 1, 2, 7, 8, 3, 4, 7, 7, 2, 9, 9, 9, 3, 2, 6]\n",
      "\n",
      "Example of Image 5:\n",
      "Image - Min Value: 0 Max Value: 252\n",
      "Image - Shape: (32, 32, 3)\n",
      "Label - Label Id: 1 Name: automobile\n"
     ]
    },
    {
     "data": {
      "image/png": "[encoded data removed]",
      "text/plain": [
       "<matplotlib.figure.Figure at 0xfebc518>"
      ]
     },
     "metadata": {
      "image/png": {
       "height": 250,
       "width": 253
      }
     },
     "output_type": "display_data"
    }
   ],
   "source": [
    "%matplotlib inline\n",
    "%config InlineBackend.figure_format = 'retina'\n",
    "\n",
    "import helper\n",
    "import numpy as np\n",
    "\n",
    "# Explore the dataset\n",
    "batch_id = 1\n",
    "sample_id = 5\n",
    "helper.display_stats(cifar10_dataset_folder_path, batch_id, sample_id)"
   ]
  },
  {
   "cell_type": "markdown",
   "metadata": {},
   "source": [
    "## Implement Preprocess Functions\n",
    "### Normalize\n",
    "In the cell below, implement the `normalize` function to take in image data, `x`, and return it as a normalized Numpy array. The values should be in the range of 0 to 1, inclusive.  The return object should be the same shape as `x`."
   ]
  },
  {
   "cell_type": "code",
   "execution_count": 7,
   "metadata": {},
   "outputs": [
    {
     "name": "stdout",
     "output_type": "stream",
     "text": [
      "Tests Passed\n"
     ]
    }
   ],
   "source": [
    "def normalize(x):\n",
    "    \"\"\"\n",
    "    Normalize a list of sample image data in the range of 0 to 1\n",
    "    : x: List of image data.  The image shape is (32, 32, 3)\n",
    "    : return: Numpy array of normalize data\n",
    "    \"\"\"\n",
    "    # TODO: Implement Function\n",
    "    \n",
    "    j = np.array(x)\n",
    "    \n",
    "    p = j/np.max(j)\n",
    "    \n",
    "    return p\n",
    "    \n",
    "\n",
    "\"\"\"\n",
    "DON'T MODIFY ANYTHING IN THIS CELL THAT IS BELOW THIS LINE\n",
    "\"\"\"\n",
    "tests.test_normalize(normalize)"
   ]
  },
  {
   "cell_type": "markdown",
   "metadata": {},
   "source": [
    "### One-hot encode\n",
    "Just like the previous code cell, you'll be implementing a function for preprocessing.  This time, you'll implement the `one_hot_encode` function. The input, `x`, are a list of labels.  Implement the function to return the list of labels as One-Hot encoded Numpy array.  The possible values for labels are 0 to 9. The one-hot encoding function should return the same encoding for each value between each call to `one_hot_encode`.  Make sure to save the map of encodings outside the function.\n",
    "\n",
    "Hint: Don't reinvent the wheel."
   ]
  },
  {
   "cell_type": "code",
   "execution_count": 8,
   "metadata": {},
   "outputs": [
    {
     "name": "stdout",
     "output_type": "stream",
     "text": [
      "Tests Passed\n"
     ]
    }
   ],
   "source": [
    "def one_hot_encode(x):\n",
    "    \"\"\"\n",
    "    One hot encode a list of sample labels. Return a one-hot encoded vector for each label.\n",
    "    : x: List of sample Labels\n",
    "    : return: Numpy array of one-hot encoded labels\n",
    "    \"\"\"\n",
    "    # TODO: Implement Function\n",
    "    \n",
    "    d = []\n",
    "    \n",
    "    for j in x:\n",
    "        h = [0,0,0,0,0,0,0,0,0,0]\n",
    "        h[j] = 1\n",
    "        d.append(h)\n",
    "        \n",
    "        \n",
    "        \n",
    "        \n",
    "    return np.array(d)\n",
    "    \n",
    "    \n",
    "\n",
    "\n",
    "\"\"\"\n",
    "DON'T MODIFY ANYTHING IN THIS CELL THAT IS BELOW THIS LINE\n",
    "\"\"\"\n",
    "tests.test_one_hot_encode(one_hot_encode)"
   ]
  },
  {
   "cell_type": "markdown",
   "metadata": {},
   "source": [
    "### Randomize Data\n",
    "As you saw from exploring the data above, the order of the samples are randomized.  It doesn't hurt to randomize it again, but you don't need to for this dataset."
   ]
  },
  {
   "cell_type": "markdown",
   "metadata": {},
   "source": [
    "## Preprocess all the data and save it\n",
    "Running the code cell below will preprocess all the CIFAR-10 data and save it to file. The code below also uses 10% of the training data for validation."
   ]
  },
  {
   "cell_type": "code",
   "execution_count": 9,
   "metadata": {
    "collapsed": true
   },
   "outputs": [],
   "source": [
    "\"\"\"\n",
    "DON'T MODIFY ANYTHING IN THIS CELL\n",
    "\"\"\"\n",
    "# Preprocess Training, Validation, and Testing Data\n",
    "helper.preprocess_and_save_data(cifar10_dataset_folder_path, normalize, one_hot_encode)"
   ]
  },
  {
   "cell_type": "markdown",
   "metadata": {},
   "source": [
    "# Check Point\n",
    "This is your first checkpoint.  If you ever decide to come back to this notebook or have to restart the notebook, you can start from here.  The preprocessed data has been saved to disk."
   ]
  },
  {
   "cell_type": "code",
   "execution_count": 1,
   "metadata": {
    "collapsed": true
   },
   "outputs": [],
   "source": [
    "\"\"\"\n",
    "DON'T MODIFY ANYTHING IN THIS CELL\n",
    "\"\"\"\n",
    "import pickle\n",
    "import problem_unittests as tests\n",
    "import helper\n",
    "\n",
    "# Load the Preprocessed Validation data\n",
    "valid_features, valid_labels = pickle.load(open('preprocess_validation.p', mode='rb'))"
   ]
  },
  {
   "cell_type": "markdown",
   "metadata": {},
   "source": [
    "This is just to check if the images where converted correctly"
   ]
  },
  {
   "cell_type": "code",
   "execution_count": 2,
   "metadata": {},
   "outputs": [
    {
     "name": "stdout",
     "output_type": "stream",
     "text": [
      "cat\n"
     ]
    },
    {
     "data": {
      "image/png": "[encoded data removed]",
      "text/plain": [
       "<matplotlib.figure.Figure at 0x4d8e710>"
      ]
     },
     "metadata": {
      "image/png": {
       "height": 250,
       "width": 253
      }
     },
     "output_type": "display_data"
    }
   ],
   "source": [
    "%matplotlib inline\n",
    "%config InlineBackend.figure_format = 'retina'\n",
    "\n",
    "import matplotlib.pyplot as plt\n",
    "\n",
    "labels = ['airplane', 'automobile', 'bird', 'cat', 'deer', 'dog', 'frog', 'horse', 'ship', 'truck']\n",
    "\n",
    "# chose one number of images to see if it is correctly converted\n",
    "x = 700\n",
    "\n",
    "plt.imshow(valid_features[x])\n",
    "for l in range(len(labels)):\n",
    "    if valid_labels[x][l] == 1:\n",
    "        print (labels[l])\n"
   ]
  },
  {
   "cell_type": "code",
   "execution_count": 3,
   "metadata": {},
   "outputs": [
    {
     "data": {
      "text/plain": [
       "array([[[ 0.3372549 ,  0.47843137,  0.85882353],\n",
       "        [ 0.35686275,  0.48627451,  0.85490196],\n",
       "        [ 0.38039216,  0.50588235,  0.8745098 ],\n",
       "        ..., \n",
       "        [ 0.43529412,  0.54509804,  0.88627451],\n",
       "        [ 0.39215686,  0.50588235,  0.85098039],\n",
       "        [ 0.35294118,  0.4627451 ,  0.81568627]],\n",
       "\n",
       "       [[ 0.36470588,  0.49803922,  0.8745098 ],\n",
       "        [ 0.38039216,  0.50588235,  0.8745098 ],\n",
       "        [ 0.4       ,  0.52941176,  0.88627451],\n",
       "        ..., \n",
       "        [ 0.31372549,  0.43137255,  0.79607843],\n",
       "        [ 0.30588235,  0.42745098,  0.78823529],\n",
       "        [ 0.32156863,  0.43921569,  0.80392157]],\n",
       "\n",
       "       [[ 0.38039216,  0.52156863,  0.87843137],\n",
       "        [ 0.40392157,  0.53333333,  0.88235294],\n",
       "        [ 0.43137255,  0.56862745,  0.90196078],\n",
       "        ..., \n",
       "        [ 0.33333333,  0.47058824,  0.83921569],\n",
       "        [ 0.34509804,  0.47843137,  0.84705882],\n",
       "        [ 0.35686275,  0.49019608,  0.85098039]],\n",
       "\n",
       "       ..., \n",
       "       [[ 0.40784314,  0.3372549 ,  0.37254902],\n",
       "        [ 0.41960784,  0.35294118,  0.38431373],\n",
       "        [ 0.44313725,  0.36862745,  0.40392157],\n",
       "        ..., \n",
       "        [ 0.36470588,  0.29803922,  0.3372549 ],\n",
       "        [ 0.35294118,  0.28627451,  0.3254902 ],\n",
       "        [ 0.34117647,  0.2745098 ,  0.31372549]],\n",
       "\n",
       "       [[ 0.43529412,  0.36470588,  0.39607843],\n",
       "        [ 0.43921569,  0.37254902,  0.40392157],\n",
       "        [ 0.44705882,  0.37647059,  0.41176471],\n",
       "        ..., \n",
       "        [ 0.35686275,  0.29019608,  0.32941176],\n",
       "        [ 0.34509804,  0.27843137,  0.32156863],\n",
       "        [ 0.34901961,  0.28235294,  0.32156863]],\n",
       "\n",
       "       [[ 0.43921569,  0.37254902,  0.40392157],\n",
       "        [ 0.43529412,  0.36862745,  0.4       ],\n",
       "        [ 0.43529412,  0.36862745,  0.40392157],\n",
       "        ..., \n",
       "        [ 0.34901961,  0.28235294,  0.3254902 ],\n",
       "        [ 0.34901961,  0.27843137,  0.3254902 ],\n",
       "        [ 0.34509804,  0.2745098 ,  0.32156863]]])"
      ]
     },
     "execution_count": 3,
     "metadata": {},
     "output_type": "execute_result"
    }
   ],
   "source": [
    "valid_features[x]"
   ]
  },
  {
   "cell_type": "markdown",
   "metadata": {},
   "source": [
    "## Build the network\n",
    "For the neural network, you'll build each layer into a function.  Most of the code you've seen has been outside of functions. To test your code more thoroughly, we require that you put each layer in a function.  This allows us to give you better feedback and test for simple mistakes using our unittests before you submit your project.\n",
    "\n",
    ">**Note:** If you're finding it hard to dedicate enough time for this course each week, we've provided a small shortcut to this part of the project. In the next couple of problems, you'll have the option to use classes from the [TensorFlow Layers](https://www.tensorflow.org/api_docs/python/tf/layers) or [TensorFlow Layers (contrib)](https://www.tensorflow.org/api_guides/python/contrib.layers) packages to build each layer, except the layers you build in the \"Convolutional and Max Pooling Layer\" section.  TF Layers is similar to Keras's and TFLearn's abstraction to layers, so it's easy to pickup.\n",
    "\n",
    ">However, if you would like to get the most out of this course, try to solve all the problems _without_ using anything from the TF Layers packages. You **can** still use classes from other packages that happen to have the same name as ones you find in TF Layers! For example, instead of using the TF Layers version of the `conv2d` class, [tf.layers.conv2d](https://www.tensorflow.org/api_docs/python/tf/layers/conv2d), you would want to use the TF Neural Network version of `conv2d`, [tf.nn.conv2d](https://www.tensorflow.org/api_docs/python/tf/nn/conv2d). \n",
    "\n",
    "Let's begin!\n",
    "\n",
    "### Input\n",
    "The neural network needs to read the image data, one-hot encoded labels, and dropout keep probability. Implement the following functions\n",
    "* Implement `neural_net_image_input`\n",
    " * Return a [TF Placeholder](https://www.tensorflow.org/api_docs/python/tf/placeholder)\n",
    " * Set the shape using `image_shape` with batch size set to `None`.\n",
    " * Name the TensorFlow placeholder \"x\" using the TensorFlow `name` parameter in the [TF Placeholder](https://www.tensorflow.org/api_docs/python/tf/placeholder).\n",
    "* Implement `neural_net_label_input`\n",
    " * Return a [TF Placeholder](https://www.tensorflow.org/api_docs/python/tf/placeholder)\n",
    " * Set the shape using `n_classes` with batch size set to `None`.\n",
    " * Name the TensorFlow placeholder \"y\" using the TensorFlow `name` parameter in the [TF Placeholder](https://www.tensorflow.org/api_docs/python/tf/placeholder).\n",
    "* Implement `neural_net_keep_prob_input`\n",
    " * Return a [TF Placeholder](https://www.tensorflow.org/api_docs/python/tf/placeholder) for dropout keep probability.\n",
    " * Name the TensorFlow placeholder \"keep_prob\" using the TensorFlow `name` parameter in the [TF Placeholder](https://www.tensorflow.org/api_docs/python/tf/placeholder).\n",
    "\n",
    "These names will be used at the end of the project to load your saved model.\n",
    "\n",
    "Note: `None` for shapes in TensorFlow allow for a dynamic size."
   ]
  },
  {
   "cell_type": "code",
   "execution_count": 3,
   "metadata": {},
   "outputs": [
    {
     "name": "stdout",
     "output_type": "stream",
     "text": [
      "Image Input Tests Passed.\n",
      "Label Input Tests Passed.\n",
      "Keep Prob Tests Passed.\n"
     ]
    }
   ],
   "source": [
    "import tensorflow as tf\n",
    "\n",
    "def neural_net_image_input(image_shape):\n",
    "    \"\"\"\n",
    "    Return a Tensor for a batch of image input\n",
    "    : image_shape: Shape of the images\n",
    "    : return: Tensor for image input.\n",
    "    \"\"\"\n",
    "    # TODO: Implement Function\n",
    "        \n",
    "    return tf.placeholder(tf.float32, [None, image_shape[0], image_shape[1], image_shape[2]], name='x')\n",
    "     \n",
    "def neural_net_label_input(n_classes):\n",
    "    \"\"\"\n",
    "    Return a Tensor for a batch of label input\n",
    "    : n_classes: Number of classes\n",
    "    : return: Tensor for label input.\n",
    "    \"\"\"\n",
    "    # TODO: Implement Function\n",
    "    \n",
    "    return tf.placeholder(tf.float32, [None, n_classes], name='y')\n",
    "\n",
    "\n",
    "\n",
    "def neural_net_keep_prob_input():\n",
    "    \"\"\"\n",
    "    Return a Tensor for keep probability\n",
    "    : return: Tensor for keep probability.\n",
    "    \"\"\"\n",
    "    # TODO: Implement Function\n",
    "    return tf.placeholder(tf.float32, name= 'keep_prob') \n",
    "\n",
    "\n",
    "\"\"\"\n",
    "DON'T MODIFY ANYTHING IN THIS CELL THAT IS BELOW THIS LINE\n",
    "\"\"\"\n",
    "tf.reset_default_graph()\n",
    "tests.test_nn_image_inputs(neural_net_image_input)\n",
    "tests.test_nn_label_inputs(neural_net_label_input)\n",
    "tests.test_nn_keep_prob_inputs(neural_net_keep_prob_input)"
   ]
  },
  {
   "cell_type": "markdown",
   "metadata": {},
   "source": [
    "### Convolution and Max Pooling Layer\n",
    "Convolution layers have a lot of success with images. For this code cell, you should implement the function `conv2d_maxpool` to apply convolution then max pooling:\n",
    "* Create the weight and bias using `conv_ksize`, `conv_num_outputs` and the shape of `x_tensor`.\n",
    "* Apply a convolution to `x_tensor` using weight and `conv_strides`.\n",
    " * We recommend you use same padding, but you're welcome to use any padding.\n",
    "* Add bias\n",
    "* Add a nonlinear activation to the convolution.\n",
    "* Apply Max Pooling using `pool_ksize` and `pool_strides`.\n",
    " * We recommend you use same padding, but you're welcome to use any padding.\n",
    "\n",
    "**Note:** You **can't** use [TensorFlow Layers](https://www.tensorflow.org/api_docs/python/tf/layers) or [TensorFlow Layers (contrib)](https://www.tensorflow.org/api_guides/python/contrib.layers) for **this** layer, but you can still use TensorFlow's [Neural Network](https://www.tensorflow.org/api_docs/python/tf/nn) package. You may still use the shortcut option for all the **other** layers."
   ]
  },
  {
   "cell_type": "code",
   "execution_count": 45,
   "metadata": {},
   "outputs": [
    {
     "name": "stdout",
     "output_type": "stream",
     "text": [
      "Tests Passed\n"
     ]
    }
   ],
   "source": [
    "def conv2d_maxpool(x_tensor, conv_num_outputs, conv_ksize, conv_strides, pool_ksize, pool_strides):\n",
    "    \"\"\"\n",
    "    Apply convolution then max pooling to x_tensor\n",
    "    :param x_tensor: TensorFlow Tensor\n",
    "    :param conv_num_outputs: Number of outputs for the convolutional layer\n",
    "    :param conv_ksize: kernal size 2-D Tuple for the convolutional layer\n",
    "    :param conv_strides: Stride 2-D Tuple for convolution\n",
    "    :param pool_ksize: kernal size 2-D Tuple for pool\n",
    "    :param pool_strides: Stride 2-D Tuple for pool\n",
    "    : return: A tensor that represents convolution and max pooling of x_tensor\n",
    "    \"\"\"\n",
    "        # TODO: Implement Function\n",
    "    \n",
    "    weight = tf.Variable(tf.truncated_normal([conv_ksize[0],conv_ksize[1],int(x_tensor.shape[3]),conv_num_outputs]))\n",
    "\n",
    "    bias = tf.Variable(tf.zeros(conv_num_outputs))\n",
    "\n",
    "    # Apply Convolution\n",
    "    conv_layer = tf.nn.conv2d(x_tensor, weight, strides=[1, conv_strides[0], conv_strides[1], 1], padding='SAME')\n",
    "    \n",
    "    # Add bias\n",
    "    conv_layer = tf.nn.bias_add(conv_layer, bias)\n",
    "    \n",
    "    # Apply activation function\n",
    "    conv_layer = tf.nn.softmax(conv_layer)\n",
    "\n",
    "    \n",
    "    # Apply Max Pooling\n",
    "    conv_layer = tf.nn.max_pool(\n",
    "    conv_layer,\n",
    "    ksize=[1, pool_ksize[0] , pool_ksize[1], 1],\n",
    "    strides=[1, pool_strides[0], pool_strides[1], 1],\n",
    "    padding='SAME')\n",
    "    \n",
    "    return conv_layer\n",
    "\n",
    "\"\"\"\n",
    "DON'T MODIFY ANYTHING IN THIS CELL THAT IS BELOW THIS LINE\n",
    "\"\"\"\n",
    "tests.test_con_pool(conv2d_maxpool)"
   ]
  },
  {
   "cell_type": "markdown",
   "metadata": {},
   "source": [
    "### Flatten Layer\n",
    "Implement the `flatten` function to change the dimension of `x_tensor` from a 4-D tensor to a 2-D tensor.  The output should be the shape (*Batch Size*, *Flattened Image Size*). Shortcut option: you can use classes from the [TensorFlow Layers](https://www.tensorflow.org/api_docs/python/tf/layers) or [TensorFlow Layers (contrib)](https://www.tensorflow.org/api_guides/python/contrib.layers) packages for this layer. For more of a challenge, only use other TensorFlow packages."
   ]
  },
  {
   "cell_type": "code",
   "execution_count": 35,
   "metadata": {},
   "outputs": [
    {
     "name": "stdout",
     "output_type": "stream",
     "text": [
      "Tests Passed\n"
     ]
    }
   ],
   "source": [
    "def flatten(x_tensor):\n",
    "    \"\"\"\n",
    "    Flatten x_tensor to (Batch Size, Flattened Image Size)\n",
    "    : x_tensor: A tensor of size (Batch Size, ...), where ... are the image dimensions.\n",
    "    : return: A tensor of size (Batch Size, Flattened Image Size).\n",
    "    \"\"\"\n",
    "    # TODO: Implement Function\n",
    "    \n",
    "    final_conv_shape = x_tensor.get_shape().as_list()\n",
    "    final_shape = final_conv_shape[1] * final_conv_shape[2] * final_conv_shape[3]\n",
    "    flat_output = tf.reshape(x_tensor, [-1, final_shape])\n",
    "       \n",
    "    \n",
    "    return flat_output\n",
    "   \n",
    "\n",
    "\"\"\"\n",
    "DON'T MODIFY ANYTHING IN THIS CELL THAT IS BELOW THIS LINE\n",
    "\"\"\"\n",
    "tests.test_flatten(flatten)"
   ]
  },
  {
   "cell_type": "markdown",
   "metadata": {},
   "source": [
    "### Fully-Connected Layer\n",
    "Implement the `fully_conn` function to apply a fully connected layer to `x_tensor` with the shape (*Batch Size*, *num_outputs*). Shortcut option: you can use classes from the [TensorFlow Layers](https://www.tensorflow.org/api_docs/python/tf/layers) or [TensorFlow Layers (contrib)](https://www.tensorflow.org/api_guides/python/contrib.layers) packages for this layer. For more of a challenge, only use other TensorFlow packages."
   ]
  },
  {
   "cell_type": "code",
   "execution_count": 36,
   "metadata": {},
   "outputs": [
    {
     "name": "stdout",
     "output_type": "stream",
     "text": [
      "Tests Passed\n"
     ]
    }
   ],
   "source": [
    "def fully_conn(x_tensor, num_outputs):\n",
    "    \"\"\"\n",
    "    Apply a fully connected layer to x_tensor using weight and bias\n",
    "    : x_tensor: A 2-D tensor where the first dimension is batch size.\n",
    "    : num_outputs: The number of output that the new tensor should be.\n",
    "    : return: A 2-D tensor where the second dimension is num_outputs.\n",
    "    \"\"\"\n",
    "    # TODO: Implement Function\n",
    "    \n",
    "    weights = tf.Variable(tf.truncated_normal([int(x_tensor.shape[1]), num_outputs]))\n",
    "    \n",
    "    biases = tf.Variable(tf.random_normal([num_outputs]))\n",
    "    \n",
    "    fc1 = tf.add(tf.matmul(x_tensor, weights), biases)\n",
    "        \n",
    "    fc1 = tf.nn.softmax(fc1)        \n",
    "   \n",
    "    return fc1\n",
    "\n",
    "\n",
    "\"\"\"\n",
    "DON'T MODIFY ANYTHING IN THIS CELL THAT IS BELOW THIS LINE\n",
    "\"\"\"\n",
    "tests.test_fully_conn(fully_conn)"
   ]
  },
  {
   "cell_type": "markdown",
   "metadata": {},
   "source": [
    "### Output Layer\n",
    "Implement the `output` function to apply a fully connected layer to `x_tensor` with the shape (*Batch Size*, *num_outputs*). Shortcut option: you can use classes from the [TensorFlow Layers](https://www.tensorflow.org/api_docs/python/tf/layers) or [TensorFlow Layers (contrib)](https://www.tensorflow.org/api_guides/python/contrib.layers) packages for this layer. For more of a challenge, only use other TensorFlow packages.\n",
    "\n",
    "**Note:** Activation, softmax, or cross entropy should **not** be applied to this."
   ]
  },
  {
   "cell_type": "code",
   "execution_count": 37,
   "metadata": {},
   "outputs": [
    {
     "name": "stdout",
     "output_type": "stream",
     "text": [
      "Tests Passed\n"
     ]
    }
   ],
   "source": [
    "def output(x_tensor, num_outputs):\n",
    "    \"\"\"\n",
    "    Apply a output layer to x_tensor using weight and bias\n",
    "    : x_tensor: A 2-D tensor where the first dimension is batch size.\n",
    "    : num_outputs: The number of output that the new tensor should be.\n",
    "    : return: A 2-D tensor where the second dimension is num_outputs.\n",
    "    \"\"\"\n",
    "    # TODO: Implement Function\n",
    "    \n",
    "    weights = tf.Variable(tf.truncated_normal([int(x_tensor.shape[1]), num_outputs]))\n",
    "    \n",
    "    biases = tf.Variable(tf.random_normal([num_outputs]))\n",
    "    \n",
    "    fc1 = tf.add(tf.matmul(x_tensor, weights), biases)    \n",
    "    \n",
    "    return fc1\n",
    "\n",
    "\n",
    "\"\"\"\n",
    "DON'T MODIFY ANYTHING IN THIS CELL THAT IS BELOW THIS LINE\n",
    "\"\"\"\n",
    "tests.test_output(output)"
   ]
  },
  {
   "cell_type": "markdown",
   "metadata": {},
   "source": [
    "### Create Convolutional Model\n",
    "Implement the function `conv_net` to create a convolutional neural network model. The function takes in a batch of images, `x`, and outputs logits.  Use the layers you created above to create this model:\n",
    "\n",
    "* Apply 1, 2, or 3 Convolution and Max Pool layers\n",
    "* Apply a Flatten Layer\n",
    "* Apply 1, 2, or 3 Fully Connected Layers\n",
    "* Apply an Output Layer\n",
    "* Return the output\n",
    "* Apply [TensorFlow's Dropout](https://www.tensorflow.org/api_docs/python/tf/nn/dropout) to one or more layers in the model using `keep_prob`. "
   ]
  },
  {
   "cell_type": "code",
   "execution_count": 46,
   "metadata": {},
   "outputs": [
    {
     "name": "stdout",
     "output_type": "stream",
     "text": [
      "Neural Network Built!\n"
     ]
    }
   ],
   "source": [
    "def conv_net(x, keep_prob):\n",
    "    \"\"\"\n",
    "    Create a convolutional neural network model\n",
    "    : x: Placeholder tensor that holds image data.\n",
    "    : keep_prob: Placeholder tensor that hold dropout keep probability.\n",
    "    : return: Tensor that represents logits\n",
    "    \"\"\"\n",
    "    # TODO: Apply 1, 2, or 3 Convolution and Max Pool layers\n",
    "    #    Play around with different number of outputs, kernel size and stride\n",
    "    # Function Definition from Above:\n",
    "    # conv2d_maxpool(x_tensor, conv_num_outputs, conv_ksize, conv_strides, pool_ksize, pool_strides)\n",
    "    \n",
    "    \n",
    "    x_tensor = conv2d_maxpool(x,        32, (3,3), (1,1), (2,2), (2,2))    \n",
    "    \n",
    "    x_tensor = conv2d_maxpool(x_tensor, 64, (3,3), (1,1), (2,2), (2,2))\n",
    "\n",
    "    \n",
    "    # TODO: Apply a Flatten Layer\n",
    "    # Function Definition from Above:\n",
    "    x_tensor = flatten(x_tensor)\n",
    "    \n",
    "        \n",
    "    # TODO: Apply 1, 2, or 3 Fully Connected Layers\n",
    "    #    Play around with different number of outputs\n",
    "    # Function Definition from Above:\n",
    "    x_tensor = fully_conn(x_tensor, 512)\n",
    "   \n",
    "    #Dropout\n",
    "    x_tensor = tf.nn.dropout(x_tensor, keep_prob)\n",
    "    \n",
    "       \n",
    "    # TODO: Apply an Output Layer\n",
    "    #    Set this to the number of classes\n",
    "    # Function Definition from Above:\n",
    "    # x_tensor = output(x_tensor, 10)\n",
    "    \n",
    "    x_tensor = output(x_tensor, 10)\n",
    "     \n",
    "    # TODO: return output\n",
    "    return x_tensor\n",
    "\n",
    "\n",
    "\"\"\"\n",
    "DON'T MODIFY ANYTHING IN THIS CELL THAT IS BELOW THIS LINE\n",
    "\"\"\"\n",
    "\n",
    "##############################\n",
    "## Build the Neural Network ##\n",
    "##############################\n",
    "\n",
    "# Remove previous weights, bias, inputs, etc..\n",
    "tf.reset_default_graph()\n",
    "\n",
    "# Inputs\n",
    "x = neural_net_image_input((32, 32, 3))\n",
    "y = neural_net_label_input(10)\n",
    "keep_prob = neural_net_keep_prob_input()\n",
    "\n",
    "# Model\n",
    "logits = conv_net(x, keep_prob)\n",
    "\n",
    "# Name logits Tensor, so that is can be loaded from disk after training\n",
    "logits = tf.identity(logits, name='logits')\n",
    "\n",
    "# Loss and Optimizer\n",
    "cost = tf.reduce_mean(tf.nn.softmax_cross_entropy_with_logits(logits=logits, labels=y))\n",
    "\n",
    "optimizer = tf.train.AdamOptimizer().minimize(cost)\n",
    "\n",
    "# Accuracy\n",
    "correct_pred = tf.equal(tf.argmax(logits, 1), tf.argmax(y, 1))\n",
    "accuracy = tf.reduce_mean(tf.cast(correct_pred, tf.float32), name='accuracy')\n",
    "\n",
    "tests.test_conv_net(conv_net)"
   ]
  },
  {
   "cell_type": "markdown",
   "metadata": {},
   "source": [
    "## Train the Neural Network\n",
    "### Single Optimization\n",
    "Implement the function `train_neural_network` to do a single optimization.  The optimization should use `optimizer` to optimize in `session` with a `feed_dict` of the following:\n",
    "* `x` for image input\n",
    "* `y` for labels\n",
    "* `keep_prob` for keep probability for dropout\n",
    "\n",
    "This function will be called for each batch, so `tf.global_variables_initializer()` has already been called.\n",
    "\n",
    "Note: Nothing needs to be returned. This function is only optimizing the neural network."
   ]
  },
  {
   "cell_type": "code",
   "execution_count": 39,
   "metadata": {},
   "outputs": [
    {
     "name": "stdout",
     "output_type": "stream",
     "text": [
      "Tests Passed\n"
     ]
    }
   ],
   "source": [
    "def train_neural_network(session, optimizer, keep_probability, feature_batch, label_batch):\n",
    "    \"\"\"\n",
    "    Optimize the session on a batch of images and labels\n",
    "    : session: Current TensorFlow session\n",
    "    : optimizer: TensorFlow optimizer function\n",
    "    : keep_probability: keep probability\n",
    "    : feature_batch: Batch of Numpy image data\n",
    "    : label_batch: Batch of Numpy label data\n",
    "    \"\"\"\n",
    "    # TODO: Implement Function        \n",
    "        \n",
    "    session.run(optimizer, feed_dict={\n",
    "                x: feature_batch,\n",
    "                y: label_batch,\n",
    "                keep_prob: keep_probability})\n",
    "\n",
    "\"\"\"\n",
    "DON'T MODIFY ANYTHING IN THIS CELL THAT IS BELOW THIS LINE\n",
    "\"\"\"\n",
    "tests.test_train_nn(train_neural_network)"
   ]
  },
  {
   "cell_type": "markdown",
   "metadata": {},
   "source": [
    "### Show Stats\n",
    "Implement the function `print_stats` to print loss and validation accuracy.  Use the global variables `valid_features` and `valid_labels` to calculate validation accuracy.  Use a keep probability of `1.0` to calculate the loss and validation accuracy."
   ]
  },
  {
   "cell_type": "code",
   "execution_count": 40,
   "metadata": {
    "collapsed": true
   },
   "outputs": [],
   "source": [
    "def print_stats(session, feature_batch, label_batch, cost, accuracy):\n",
    "    \"\"\"\n",
    "    Print information about loss and validation accuracy\n",
    "    : session: Current TensorFlow session\n",
    "    : feature_batch: Batch of Numpy image data\n",
    "    : label_batch: Batch of Numpy label data\n",
    "    : cost: TensorFlow cost function\n",
    "    : accuracy: TensorFlow accuracy function\n",
    "    \"\"\"\n",
    "    # TODO: Implement Function\n",
    "    \n",
    "    \n",
    "    # Calculate batch loss and accuracy\n",
    "    # Calculate batch loss and accuracy\n",
    "    loss = session.run(cost, feed_dict={\n",
    "                x: feature_batch,\n",
    "                y: label_batch,\n",
    "                keep_prob: 1.})\n",
    "    valid_acc = session.run(accuracy, feed_dict={\n",
    "                x: valid_features,\n",
    "                y: valid_labels,\n",
    "                keep_prob: 1.})\n",
    "\n",
    "    print(  'loss:',             \n",
    "                loss,\n",
    "                'accuracy:', valid_acc)\n"
   ]
  },
  {
   "cell_type": "markdown",
   "metadata": {},
   "source": [
    "### Hyperparameters\n",
    "Tune the following parameters:\n",
    "* Set `epochs` to the number of iterations until the network stops learning or start overfitting\n",
    "* Set `batch_size` to the highest number that your machine has memory for.  Most people set them to common sizes of memory:\n",
    " * 64\n",
    " * 128\n",
    " * 256\n",
    " * ...\n",
    "* Set `keep_probability` to the probability of keeping a node using dropout"
   ]
  },
  {
   "cell_type": "code",
   "execution_count": 50,
   "metadata": {
    "collapsed": true
   },
   "outputs": [],
   "source": [
    "# TODO: Tune Parameters\n",
    "epochs = 50\n",
    "batch_size = 300\n",
    "keep_probability = 0.5"
   ]
  },
  {
   "cell_type": "markdown",
   "metadata": {},
   "source": [
    "### Train on a Single CIFAR-10 Batch\n",
    "Instead of training the neural network on all the CIFAR-10 batches of data, let's use a single batch. This should save time while you iterate on the model to get a better accuracy.  Once the final validation accuracy is 50% or greater, run the model on all the data in the next section."
   ]
  },
  {
   "cell_type": "code",
   "execution_count": 44,
   "metadata": {},
   "outputs": [
    {
     "name": "stdout",
     "output_type": "stream",
     "text": [
      "Checking the Training on a Single Batch...\n",
      "Epoch  1, CIFAR-10 Batch 1:  loss: 2.30265 accuracy: 0.1162\n",
      "Epoch  2, CIFAR-10 Batch 1:  loss: 2.1803 accuracy: 0.1398\n",
      "Epoch  3, CIFAR-10 Batch 1:  loss: 2.11822 accuracy: 0.202\n",
      "Epoch  4, CIFAR-10 Batch 1:  loss: 2.07423 accuracy: 0.2406\n",
      "Epoch  5, CIFAR-10 Batch 1:  loss: 2.04713 accuracy: 0.2752\n",
      "Epoch  6, CIFAR-10 Batch 1:  loss: 2.02125 accuracy: 0.3006\n",
      "Epoch  7, CIFAR-10 Batch 1:  loss: 2.00782 accuracy: 0.3188\n",
      "Epoch  8, CIFAR-10 Batch 1:  loss: 1.97556 accuracy: 0.3428\n",
      "Epoch  9, CIFAR-10 Batch 1:  loss: 1.93251 accuracy: 0.3546\n",
      "Epoch 10, CIFAR-10 Batch 1:  loss: 1.92097 accuracy: 0.364\n",
      "Epoch 11, CIFAR-10 Batch 1:  loss: 1.93162 accuracy: 0.3662\n",
      "Epoch 12, CIFAR-10 Batch 1:  loss: 1.90276 accuracy: 0.38\n",
      "Epoch 13, CIFAR-10 Batch 1:  loss: 1.89034 accuracy: 0.3854\n",
      "Epoch 14, CIFAR-10 Batch 1:  loss: 1.88764 accuracy: 0.387\n",
      "Epoch 15, CIFAR-10 Batch 1:  loss: 1.86793 accuracy: 0.4024\n",
      "Epoch 16, CIFAR-10 Batch 1:  loss: 1.85285 accuracy: 0.3968\n",
      "Epoch 17, CIFAR-10 Batch 1:  loss: 1.84594 accuracy: 0.399\n",
      "Epoch 18, CIFAR-10 Batch 1:  loss: 1.84015 accuracy: 0.4116\n",
      "Epoch 19, CIFAR-10 Batch 1:  loss: 1.81935 accuracy: 0.4164\n",
      "Epoch 20, CIFAR-10 Batch 1:  loss: 1.81627 accuracy: 0.4236\n",
      "Epoch 21, CIFAR-10 Batch 1:  loss: 1.78698 accuracy: 0.422\n",
      "Epoch 22, CIFAR-10 Batch 1:  loss: 1.78674 accuracy: 0.4258\n",
      "Epoch 23, CIFAR-10 Batch 1:  loss: 1.75342 accuracy: 0.4278\n",
      "Epoch 24, CIFAR-10 Batch 1:  loss: 1.73982 accuracy: 0.436\n",
      "Epoch 25, CIFAR-10 Batch 1:  loss: 1.72596 accuracy: 0.4384\n",
      "Epoch 26, CIFAR-10 Batch 1:  loss: 1.72241 accuracy: 0.436\n",
      "Epoch 27, CIFAR-10 Batch 1:  loss: 1.69115 accuracy: 0.4406\n",
      "Epoch 28, CIFAR-10 Batch 1:  loss: 1.6905 accuracy: 0.4452\n",
      "Epoch 29, CIFAR-10 Batch 1:  loss: 1.67179 accuracy: 0.4446\n",
      "Epoch 30, CIFAR-10 Batch 1:  loss: 1.66096 accuracy: 0.4504\n",
      "Epoch 31, CIFAR-10 Batch 1:  loss: 1.65527 accuracy: 0.453\n",
      "Epoch 32, CIFAR-10 Batch 1:  loss: 1.646 accuracy: 0.4498\n",
      "Epoch 33, CIFAR-10 Batch 1:  loss: 1.65371 accuracy: 0.4572\n",
      "Epoch 34, CIFAR-10 Batch 1:  loss: 1.62545 accuracy: 0.4608\n",
      "Epoch 35, CIFAR-10 Batch 1:  loss: 1.62018 accuracy: 0.4546\n",
      "Epoch 36, CIFAR-10 Batch 1:  loss: 1.60554 accuracy: 0.459\n",
      "Epoch 37, CIFAR-10 Batch 1:  loss: 1.56802 accuracy: 0.4638\n",
      "Epoch 38, CIFAR-10 Batch 1:  loss: 1.57213 accuracy: 0.469\n",
      "Epoch 39, CIFAR-10 Batch 1:  loss: 1.54404 accuracy: 0.471\n",
      "Epoch 40, CIFAR-10 Batch 1:  loss: 1.54088 accuracy: 0.4738\n",
      "Epoch 41, CIFAR-10 Batch 1:  loss: 1.53124 accuracy: 0.4772\n",
      "Epoch 42, CIFAR-10 Batch 1:  loss: 1.51398 accuracy: 0.4774\n",
      "Epoch 43, CIFAR-10 Batch 1:  loss: 1.50509 accuracy: 0.4758\n",
      "Epoch 44, CIFAR-10 Batch 1:  loss: 1.49016 accuracy: 0.4784\n",
      "Epoch 45, CIFAR-10 Batch 1:  loss: 1.48354 accuracy: 0.4784\n",
      "Epoch 46, CIFAR-10 Batch 1:  loss: 1.46072 accuracy: 0.4846\n",
      "Epoch 47, CIFAR-10 Batch 1:  loss: 1.45522 accuracy: 0.4884\n",
      "Epoch 48, CIFAR-10 Batch 1:  loss: 1.45264 accuracy: 0.4818\n",
      "Epoch 49, CIFAR-10 Batch 1:  loss: 1.42257 accuracy: 0.4854\n",
      "Epoch 50, CIFAR-10 Batch 1:  loss: 1.42316 accuracy: 0.4906\n"
     ]
    }
   ],
   "source": [
    "\"\"\"\n",
    "DON'T MODIFY ANYTHING IN THIS CELL\n",
    "\"\"\"\n",
    "print('Checking the Training on a Single Batch...')\n",
    "with tf.Session() as sess:\n",
    "    # Initializing the variables\n",
    "    sess.run(tf.global_variables_initializer())\n",
    "    \n",
    "    # Training cycle\n",
    "    for epoch in range(epochs):\n",
    "        batch_i = 1\n",
    "        for batch_features, batch_labels in helper.load_preprocess_training_batch(batch_i, batch_size):\n",
    "            train_neural_network(sess, optimizer, keep_probability, batch_features, batch_labels)\n",
    "        print('Epoch {:>2}, CIFAR-10 Batch {}:  '.format(epoch + 1, batch_i), end='')\n",
    "        print_stats(sess, batch_features, batch_labels, cost, accuracy)"
   ]
  },
  {
   "cell_type": "markdown",
   "metadata": {},
   "source": [
    "### Fully Train the Model\n",
    "Now that you got a good accuracy with a single CIFAR-10 batch, try it with all five batches."
   ]
  },
  {
   "cell_type": "code",
   "execution_count": 51,
   "metadata": {},
   "outputs": [
    {
     "name": "stdout",
     "output_type": "stream",
     "text": [
      "Training...\n",
      "Epoch  1, CIFAR-10 Batch 1:  loss: 2.41426 accuracy: 0.117\n",
      "Epoch  1, CIFAR-10 Batch 2:  loss: 2.33053 accuracy: 0.1244\n",
      "Epoch  1, CIFAR-10 Batch 3:  loss: 2.30399 accuracy: 0.1476\n",
      "Epoch  1, CIFAR-10 Batch 4:  loss: 2.22605 accuracy: 0.1694\n",
      "Epoch  1, CIFAR-10 Batch 5:  loss: 2.18379 accuracy: 0.199\n",
      "Epoch  2, CIFAR-10 Batch 1:  loss: 2.17586 accuracy: 0.2334\n",
      "Epoch  2, CIFAR-10 Batch 2:  loss: 2.13957 accuracy: 0.2514\n",
      "Epoch  2, CIFAR-10 Batch 3:  loss: 2.10571 accuracy: 0.2754\n",
      "Epoch  2, CIFAR-10 Batch 4:  loss: 2.02486 accuracy: 0.2836\n",
      "Epoch  2, CIFAR-10 Batch 5:  loss: 2.04513 accuracy: 0.296\n",
      "Epoch  3, CIFAR-10 Batch 1:  loss: 2.0332 accuracy: 0.3\n",
      "Epoch  3, CIFAR-10 Batch 2:  loss: 2.00007 accuracy: 0.308\n",
      "Epoch  3, CIFAR-10 Batch 3:  loss: 1.9625 accuracy: 0.3298\n",
      "Epoch  3, CIFAR-10 Batch 4:  loss: 1.90483 accuracy: 0.3338\n",
      "Epoch  3, CIFAR-10 Batch 5:  loss: 1.93506 accuracy: 0.341\n",
      "Epoch  4, CIFAR-10 Batch 1:  loss: 1.95064 accuracy: 0.353\n",
      "Epoch  4, CIFAR-10 Batch 2:  loss: 1.91202 accuracy: 0.3534\n",
      "Epoch  4, CIFAR-10 Batch 3:  loss: 1.86939 accuracy: 0.3668\n",
      "Epoch  4, CIFAR-10 Batch 4:  loss: 1.82934 accuracy: 0.3726\n",
      "Epoch  4, CIFAR-10 Batch 5:  loss: 1.86535 accuracy: 0.3706\n",
      "Epoch  5, CIFAR-10 Batch 1:  loss: 1.90178 accuracy: 0.3824\n",
      "Epoch  5, CIFAR-10 Batch 2:  loss: 1.85052 accuracy: 0.3814\n",
      "Epoch  5, CIFAR-10 Batch 3:  loss: 1.7846 accuracy: 0.3878\n",
      "Epoch  5, CIFAR-10 Batch 4:  loss: 1.76745 accuracy: 0.3976\n",
      "Epoch  5, CIFAR-10 Batch 5:  loss: 1.80313 accuracy: 0.3852\n",
      "Epoch  6, CIFAR-10 Batch 1:  loss: 1.84161 accuracy: 0.3986\n",
      "Epoch  6, CIFAR-10 Batch 2:  loss: 1.79648 accuracy: 0.4012\n",
      "Epoch  6, CIFAR-10 Batch 3:  loss: 1.72845 accuracy: 0.4086\n",
      "Epoch  6, CIFAR-10 Batch 4:  loss: 1.70927 accuracy: 0.4146\n",
      "Epoch  6, CIFAR-10 Batch 5:  loss: 1.75469 accuracy: 0.4084\n",
      "Epoch  7, CIFAR-10 Batch 1:  loss: 1.79773 accuracy: 0.4164\n",
      "Epoch  7, CIFAR-10 Batch 2:  loss: 1.75257 accuracy: 0.42\n",
      "Epoch  7, CIFAR-10 Batch 3:  loss: 1.67128 accuracy: 0.4244\n",
      "Epoch  7, CIFAR-10 Batch 4:  loss: 1.66153 accuracy: 0.434\n",
      "Epoch  7, CIFAR-10 Batch 5:  loss: 1.71004 accuracy: 0.4286\n",
      "Epoch  8, CIFAR-10 Batch 1:  loss: 1.75817 accuracy: 0.4326\n",
      "Epoch  8, CIFAR-10 Batch 2:  loss: 1.70876 accuracy: 0.4356\n",
      "Epoch  8, CIFAR-10 Batch 3:  loss: 1.62568 accuracy: 0.4322\n",
      "Epoch  8, CIFAR-10 Batch 4:  loss: 1.6241 accuracy: 0.4494\n",
      "Epoch  8, CIFAR-10 Batch 5:  loss: 1.67213 accuracy: 0.4326\n",
      "Epoch  9, CIFAR-10 Batch 1:  loss: 1.72473 accuracy: 0.4488\n",
      "Epoch  9, CIFAR-10 Batch 2:  loss: 1.67203 accuracy: 0.4426\n",
      "Epoch  9, CIFAR-10 Batch 3:  loss: 1.58291 accuracy: 0.4448\n",
      "Epoch  9, CIFAR-10 Batch 4:  loss: 1.58398 accuracy: 0.4564\n",
      "Epoch  9, CIFAR-10 Batch 5:  loss: 1.63391 accuracy: 0.4514\n",
      "Epoch 10, CIFAR-10 Batch 1:  loss: 1.68972 accuracy: 0.4566\n",
      "Epoch 10, CIFAR-10 Batch 2:  loss: 1.63278 accuracy: 0.4624\n",
      "Epoch 10, CIFAR-10 Batch 3:  loss: 1.54208 accuracy: 0.4608\n",
      "Epoch 10, CIFAR-10 Batch 4:  loss: 1.54856 accuracy: 0.4662\n",
      "Epoch 10, CIFAR-10 Batch 5:  loss: 1.59642 accuracy: 0.4578\n",
      "Epoch 11, CIFAR-10 Batch 1:  loss: 1.65605 accuracy: 0.4692\n",
      "Epoch 11, CIFAR-10 Batch 2:  loss: 1.59391 accuracy: 0.4682\n",
      "Epoch 11, CIFAR-10 Batch 3:  loss: 1.51168 accuracy: 0.4638\n",
      "Epoch 11, CIFAR-10 Batch 4:  loss: 1.51991 accuracy: 0.4712\n",
      "Epoch 11, CIFAR-10 Batch 5:  loss: 1.56548 accuracy: 0.4706\n",
      "Epoch 12, CIFAR-10 Batch 1:  loss: 1.63185 accuracy: 0.4766\n",
      "Epoch 12, CIFAR-10 Batch 2:  loss: 1.56503 accuracy: 0.481\n",
      "Epoch 12, CIFAR-10 Batch 3:  loss: 1.4854 accuracy: 0.4744\n",
      "Epoch 12, CIFAR-10 Batch 4:  loss: 1.49458 accuracy: 0.4782\n",
      "Epoch 12, CIFAR-10 Batch 5:  loss: 1.54273 accuracy: 0.4818\n",
      "Epoch 13, CIFAR-10 Batch 1:  loss: 1.59419 accuracy: 0.4842\n",
      "Epoch 13, CIFAR-10 Batch 2:  loss: 1.54177 accuracy: 0.485\n",
      "Epoch 13, CIFAR-10 Batch 3:  loss: 1.44932 accuracy: 0.483\n",
      "Epoch 13, CIFAR-10 Batch 4:  loss: 1.4667 accuracy: 0.4858\n",
      "Epoch 13, CIFAR-10 Batch 5:  loss: 1.50661 accuracy: 0.4872\n",
      "Epoch 14, CIFAR-10 Batch 1:  loss: 1.56873 accuracy: 0.4904\n",
      "Epoch 14, CIFAR-10 Batch 2:  loss: 1.52436 accuracy: 0.4906\n",
      "Epoch 14, CIFAR-10 Batch 3:  loss: 1.42483 accuracy: 0.488\n",
      "Epoch 14, CIFAR-10 Batch 4:  loss: 1.43894 accuracy: 0.4926\n",
      "Epoch 14, CIFAR-10 Batch 5:  loss: 1.47307 accuracy: 0.4944\n",
      "Epoch 15, CIFAR-10 Batch 1:  loss: 1.54073 accuracy: 0.4932\n",
      "Epoch 15, CIFAR-10 Batch 2:  loss: 1.48496 accuracy: 0.4942\n",
      "Epoch 15, CIFAR-10 Batch 3:  loss: 1.39841 accuracy: 0.496\n",
      "Epoch 15, CIFAR-10 Batch 4:  loss: 1.41613 accuracy: 0.4988\n",
      "Epoch 15, CIFAR-10 Batch 5:  loss: 1.45513 accuracy: 0.5\n",
      "Epoch 16, CIFAR-10 Batch 1:  loss: 1.51008 accuracy: 0.5052\n",
      "Epoch 16, CIFAR-10 Batch 2:  loss: 1.46997 accuracy: 0.5022\n",
      "Epoch 16, CIFAR-10 Batch 3:  loss: 1.3808 accuracy: 0.4986\n",
      "Epoch 16, CIFAR-10 Batch 4:  loss: 1.39146 accuracy: 0.501\n",
      "Epoch 16, CIFAR-10 Batch 5:  loss: 1.43541 accuracy: 0.507\n",
      "Epoch 17, CIFAR-10 Batch 1:  loss: 1.49428 accuracy: 0.5058\n",
      "Epoch 17, CIFAR-10 Batch 2:  loss: 1.45297 accuracy: 0.5088\n",
      "Epoch 17, CIFAR-10 Batch 3:  loss: 1.35043 accuracy: 0.5066\n",
      "Epoch 17, CIFAR-10 Batch 4:  loss: 1.37243 accuracy: 0.5096\n",
      "Epoch 17, CIFAR-10 Batch 5:  loss: 1.42268 accuracy: 0.5054\n",
      "Epoch 18, CIFAR-10 Batch 1:  loss: 1.47824 accuracy: 0.5136\n",
      "Epoch 18, CIFAR-10 Batch 2:  loss: 1.43278 accuracy: 0.51\n",
      "Epoch 18, CIFAR-10 Batch 3:  loss: 1.33081 accuracy: 0.5134\n",
      "Epoch 18, CIFAR-10 Batch 4:  loss: 1.3552 accuracy: 0.5128\n",
      "Epoch 18, CIFAR-10 Batch 5:  loss: 1.38968 accuracy: 0.5122\n",
      "Epoch 19, CIFAR-10 Batch 1:  loss: 1.45727 accuracy: 0.5154\n",
      "Epoch 19, CIFAR-10 Batch 2:  loss: 1.4113 accuracy: 0.5096\n",
      "Epoch 19, CIFAR-10 Batch 3:  loss: 1.31059 accuracy: 0.5144\n",
      "Epoch 19, CIFAR-10 Batch 4:  loss: 1.34504 accuracy: 0.5154\n",
      "Epoch 19, CIFAR-10 Batch 5:  loss: 1.36801 accuracy: 0.5166\n",
      "Epoch 20, CIFAR-10 Batch 1:  loss: 1.43949 accuracy: 0.5188\n",
      "Epoch 20, CIFAR-10 Batch 2:  loss: 1.39319 accuracy: 0.5206\n",
      "Epoch 20, CIFAR-10 Batch 3:  loss: 1.29292 accuracy: 0.52\n",
      "Epoch 20, CIFAR-10 Batch 4:  loss: 1.32175 accuracy: 0.5186\n",
      "Epoch 20, CIFAR-10 Batch 5:  loss: 1.35111 accuracy: 0.5156\n",
      "Epoch 21, CIFAR-10 Batch 1:  loss: 1.41552 accuracy: 0.523\n",
      "Epoch 21, CIFAR-10 Batch 2:  loss: 1.38844 accuracy: 0.5188\n",
      "Epoch 21, CIFAR-10 Batch 3:  loss: 1.27435 accuracy: 0.5238\n",
      "Epoch 21, CIFAR-10 Batch 4:  loss: 1.30254 accuracy: 0.521\n",
      "Epoch 21, CIFAR-10 Batch 5:  loss: 1.32672 accuracy: 0.5232\n",
      "Epoch 22, CIFAR-10 Batch 1:  loss: 1.39846 accuracy: 0.5256\n",
      "Epoch 22, CIFAR-10 Batch 2:  loss: 1.36135 accuracy: 0.5236\n",
      "Epoch 22, CIFAR-10 Batch 3:  loss: 1.25936 accuracy: 0.5254\n",
      "Epoch 22, CIFAR-10 Batch 4:  loss: 1.28743 accuracy: 0.5274\n",
      "Epoch 22, CIFAR-10 Batch 5:  loss: 1.313 accuracy: 0.5238\n",
      "Epoch 23, CIFAR-10 Batch 1:  loss: 1.38468 accuracy: 0.5318\n",
      "Epoch 23, CIFAR-10 Batch 2:  loss: 1.35074 accuracy: 0.5292\n",
      "Epoch 23, CIFAR-10 Batch 3:  loss: 1.24174 accuracy: 0.5294\n",
      "Epoch 23, CIFAR-10 Batch 4:  loss: 1.27283 accuracy: 0.529\n",
      "Epoch 23, CIFAR-10 Batch 5:  loss: 1.29901 accuracy: 0.5284\n",
      "Epoch 24, CIFAR-10 Batch 1:  loss: 1.37483 accuracy: 0.5298\n",
      "Epoch 24, CIFAR-10 Batch 2:  loss: 1.33324 accuracy: 0.5348\n",
      "Epoch 24, CIFAR-10 Batch 3:  loss: 1.22337 accuracy: 0.5294\n",
      "Epoch 24, CIFAR-10 Batch 4:  loss: 1.25475 accuracy: 0.5342\n",
      "Epoch 24, CIFAR-10 Batch 5:  loss: 1.28054 accuracy: 0.5338\n",
      "Epoch 25, CIFAR-10 Batch 1:  loss: 1.35133 accuracy: 0.5344\n",
      "Epoch 25, CIFAR-10 Batch 2:  loss: 1.32749 accuracy: 0.535\n",
      "Epoch 25, CIFAR-10 Batch 3:  loss: 1.20392 accuracy: 0.5374\n",
      "Epoch 25, CIFAR-10 Batch 4:  loss: 1.23534 accuracy: 0.538\n",
      "Epoch 25, CIFAR-10 Batch 5:  loss: 1.27058 accuracy: 0.5352\n",
      "Epoch 26, CIFAR-10 Batch 1:  loss: 1.34241 accuracy: 0.5358\n",
      "Epoch 26, CIFAR-10 Batch 2:  loss: 1.30769 accuracy: 0.5394\n",
      "Epoch 26, CIFAR-10 Batch 3:  loss: 1.19799 accuracy: 0.5382\n",
      "Epoch 26, CIFAR-10 Batch 4:  loss: 1.22438 accuracy: 0.5378\n",
      "Epoch 26, CIFAR-10 Batch 5:  loss: 1.25534 accuracy: 0.538\n",
      "Epoch 27, CIFAR-10 Batch 1:  loss: 1.33032 accuracy: 0.5416\n",
      "Epoch 27, CIFAR-10 Batch 2:  loss: 1.2976 accuracy: 0.5424\n",
      "Epoch 27, CIFAR-10 Batch 3:  loss: 1.17247 accuracy: 0.5426\n",
      "Epoch 27, CIFAR-10 Batch 4:  loss: 1.21479 accuracy: 0.5436\n",
      "Epoch 27, CIFAR-10 Batch 5:  loss: 1.23902 accuracy: 0.5406\n",
      "Epoch 28, CIFAR-10 Batch 1:  loss: 1.3148 accuracy: 0.543\n",
      "Epoch 28, CIFAR-10 Batch 2:  loss: 1.27907 accuracy: 0.545\n",
      "Epoch 28, CIFAR-10 Batch 3:  loss: 1.1622 accuracy: 0.5442\n",
      "Epoch 28, CIFAR-10 Batch 4:  loss: 1.19781 accuracy: 0.545\n",
      "Epoch 28, CIFAR-10 Batch 5:  loss: 1.22741 accuracy: 0.5438\n",
      "Epoch 29, CIFAR-10 Batch 1:  loss: 1.30912 accuracy: 0.5462\n",
      "Epoch 29, CIFAR-10 Batch 2:  loss: 1.27475 accuracy: 0.5476\n",
      "Epoch 29, CIFAR-10 Batch 3:  loss: 1.15677 accuracy: 0.5454\n",
      "Epoch 29, CIFAR-10 Batch 4:  loss: 1.18475 accuracy: 0.5488\n",
      "Epoch 29, CIFAR-10 Batch 5:  loss: 1.21742 accuracy: 0.5486\n",
      "Epoch 30, CIFAR-10 Batch 1:  loss: 1.28491 accuracy: 0.5474\n",
      "Epoch 30, CIFAR-10 Batch 2:  loss: 1.25504 accuracy: 0.5486\n",
      "Epoch 30, CIFAR-10 Batch 3:  loss: 1.14173 accuracy: 0.548\n",
      "Epoch 30, CIFAR-10 Batch 4:  loss: 1.1739 accuracy: 0.5526\n",
      "Epoch 30, CIFAR-10 Batch 5:  loss: 1.19824 accuracy: 0.551\n",
      "Epoch 31, CIFAR-10 Batch 1:  loss: 1.27862 accuracy: 0.553\n",
      "Epoch 31, CIFAR-10 Batch 2:  loss: 1.24986 accuracy: 0.553\n",
      "Epoch 31, CIFAR-10 Batch 3:  loss: 1.12163 accuracy: 0.554\n",
      "Epoch 31, CIFAR-10 Batch 4:  loss: 1.15681 accuracy: 0.5542\n",
      "Epoch 31, CIFAR-10 Batch 5:  loss: 1.19622 accuracy: 0.5518\n",
      "Epoch 32, CIFAR-10 Batch 1:  loss: 1.26753 accuracy: 0.5534\n",
      "Epoch 32, CIFAR-10 Batch 2:  loss: 1.23262 accuracy: 0.5542\n",
      "Epoch 32, CIFAR-10 Batch 3:  loss: 1.11051 accuracy: 0.5548\n",
      "Epoch 32, CIFAR-10 Batch 4:  loss: 1.15832 accuracy: 0.556\n",
      "Epoch 32, CIFAR-10 Batch 5:  loss: 1.18412 accuracy: 0.555\n",
      "Epoch 33, CIFAR-10 Batch 1:  loss: 1.25526 accuracy: 0.5572\n",
      "Epoch 33, CIFAR-10 Batch 2:  loss: 1.21995 accuracy: 0.5584\n",
      "Epoch 33, CIFAR-10 Batch 3:  loss: 1.10946 accuracy: 0.5522\n",
      "Epoch 33, CIFAR-10 Batch 4:  loss: 1.13702 accuracy: 0.5614\n",
      "Epoch 33, CIFAR-10 Batch 5:  loss: 1.16905 accuracy: 0.5564\n",
      "Epoch 34, CIFAR-10 Batch 1:  loss: 1.24376 accuracy: 0.5598\n",
      "Epoch 34, CIFAR-10 Batch 2:  loss: 1.20792 accuracy: 0.5638\n",
      "Epoch 34, CIFAR-10 Batch 3:  loss: 1.09581 accuracy: 0.5616\n",
      "Epoch 34, CIFAR-10 Batch 4:  loss: 1.12778 accuracy: 0.563\n",
      "Epoch 34, CIFAR-10 Batch 5:  loss: 1.16392 accuracy: 0.5612\n",
      "Epoch 35, CIFAR-10 Batch 1:  loss: 1.24444 accuracy: 0.5618\n",
      "Epoch 35, CIFAR-10 Batch 2:  loss: 1.19189 accuracy: 0.5648\n",
      "Epoch 35, CIFAR-10 Batch 3:  loss: 1.08397 accuracy: 0.5604\n",
      "Epoch 35, CIFAR-10 Batch 4:  loss: 1.10312 accuracy: 0.5692\n",
      "Epoch 35, CIFAR-10 Batch 5:  loss: 1.14842 accuracy: 0.5638\n",
      "Epoch 36, CIFAR-10 Batch 1:  loss: 1.228 accuracy: 0.5644\n",
      "Epoch 36, CIFAR-10 Batch 2:  loss: 1.18138 accuracy: 0.5682\n",
      "Epoch 36, CIFAR-10 Batch 3:  loss: 1.07193 accuracy: 0.5628\n",
      "Epoch 36, CIFAR-10 Batch 4:  loss: 1.09603 accuracy: 0.5684\n",
      "Epoch 36, CIFAR-10 Batch 5:  loss: 1.14383 accuracy: 0.563\n",
      "Epoch 37, CIFAR-10 Batch 1:  loss: 1.21654 accuracy: 0.5638\n",
      "Epoch 37, CIFAR-10 Batch 2:  loss: 1.17317 accuracy: 0.5666\n",
      "Epoch 37, CIFAR-10 Batch 3:  loss: 1.07012 accuracy: 0.564\n",
      "Epoch 37, CIFAR-10 Batch 4:  loss: 1.08046 accuracy: 0.571\n",
      "Epoch 37, CIFAR-10 Batch 5:  loss: 1.13106 accuracy: 0.5646\n",
      "Epoch 38, CIFAR-10 Batch 1:  loss: 1.19969 accuracy: 0.57\n",
      "Epoch 38, CIFAR-10 Batch 2:  loss: 1.16072 accuracy: 0.5698\n",
      "Epoch 38, CIFAR-10 Batch 3:  loss: 1.0565 accuracy: 0.5684\n",
      "Epoch 38, CIFAR-10 Batch 4:  loss: 1.08207 accuracy: 0.5702\n",
      "Epoch 38, CIFAR-10 Batch 5:  loss: 1.11821 accuracy: 0.5714\n",
      "Epoch 39, CIFAR-10 Batch 1:  loss: 1.17905 accuracy: 0.5712\n",
      "Epoch 39, CIFAR-10 Batch 2:  loss: 1.14376 accuracy: 0.5718\n",
      "Epoch 39, CIFAR-10 Batch 3:  loss: 1.03957 accuracy: 0.5728\n",
      "Epoch 39, CIFAR-10 Batch 4:  loss: 1.06792 accuracy: 0.572\n",
      "Epoch 39, CIFAR-10 Batch 5:  loss: 1.11054 accuracy: 0.5712\n",
      "Epoch 40, CIFAR-10 Batch 1:  loss: 1.18112 accuracy: 0.5734\n",
      "Epoch 40, CIFAR-10 Batch 2:  loss: 1.14138 accuracy: 0.5752\n",
      "Epoch 40, CIFAR-10 Batch 3:  loss: 1.04101 accuracy: 0.5696\n",
      "Epoch 40, CIFAR-10 Batch 4:  loss: 1.0483 accuracy: 0.5746\n",
      "Epoch 40, CIFAR-10 Batch 5:  loss: 1.10243 accuracy: 0.5696\n",
      "Epoch 41, CIFAR-10 Batch 1:  loss: 1.16982 accuracy: 0.5726\n",
      "Epoch 41, CIFAR-10 Batch 2:  loss: 1.12437 accuracy: 0.5736\n",
      "Epoch 41, CIFAR-10 Batch 3:  loss: 1.02698 accuracy: 0.574\n",
      "Epoch 41, CIFAR-10 Batch 4:  loss: 1.04464 accuracy: 0.5766\n",
      "Epoch 41, CIFAR-10 Batch 5:  loss: 1.10248 accuracy: 0.5728\n",
      "Epoch 42, CIFAR-10 Batch 1:  loss: 1.16458 accuracy: 0.5762\n",
      "Epoch 42, CIFAR-10 Batch 2:  loss: 1.11298 accuracy: 0.5776\n",
      "Epoch 42, CIFAR-10 Batch 3:  loss: 1.01888 accuracy: 0.5792\n",
      "Epoch 42, CIFAR-10 Batch 4:  loss: 1.04204 accuracy: 0.5768\n",
      "Epoch 42, CIFAR-10 Batch 5:  loss: 1.09146 accuracy: 0.5726\n",
      "Epoch 43, CIFAR-10 Batch 1:  loss: 1.15582 accuracy: 0.5764\n",
      "Epoch 43, CIFAR-10 Batch 2:  loss: 1.10743 accuracy: 0.5758\n",
      "Epoch 43, CIFAR-10 Batch 3:  loss: 1.01166 accuracy: 0.5776\n",
      "Epoch 43, CIFAR-10 Batch 4:  loss: 1.02584 accuracy: 0.5818\n",
      "Epoch 43, CIFAR-10 Batch 5:  loss: 1.07102 accuracy: 0.5756\n",
      "Epoch 44, CIFAR-10 Batch 1:  loss: 1.14011 accuracy: 0.5816\n",
      "Epoch 44, CIFAR-10 Batch 2:  loss: 1.09483 accuracy: 0.5824\n",
      "Epoch 44, CIFAR-10 Batch 3:  loss: 1.00793 accuracy: 0.582\n",
      "Epoch 44, CIFAR-10 Batch 4:  loss: 1.01671 accuracy: 0.583\n",
      "Epoch 44, CIFAR-10 Batch 5:  loss: 1.06917 accuracy: 0.5768\n",
      "Epoch 45, CIFAR-10 Batch 1:  loss: 1.13441 accuracy: 0.5776\n",
      "Epoch 45, CIFAR-10 Batch 2:  loss: 1.09308 accuracy: 0.5864\n",
      "Epoch 45, CIFAR-10 Batch 3:  loss: 0.983184 accuracy: 0.5846\n",
      "Epoch 45, CIFAR-10 Batch 4:  loss: 1.0081 accuracy: 0.585\n",
      "Epoch 45, CIFAR-10 Batch 5:  loss: 1.06201 accuracy: 0.5814\n",
      "Epoch 46, CIFAR-10 Batch 1:  loss: 1.12197 accuracy: 0.5864\n",
      "Epoch 46, CIFAR-10 Batch 2:  loss: 1.08022 accuracy: 0.5862\n",
      "Epoch 46, CIFAR-10 Batch 3:  loss: 0.988536 accuracy: 0.5842\n",
      "Epoch 46, CIFAR-10 Batch 4:  loss: 0.98783 accuracy: 0.5874\n",
      "Epoch 46, CIFAR-10 Batch 5:  loss: 1.04637 accuracy: 0.5832\n",
      "Epoch 47, CIFAR-10 Batch 1:  loss: 1.11895 accuracy: 0.5852\n",
      "Epoch 47, CIFAR-10 Batch 2:  loss: 1.07213 accuracy: 0.5876\n",
      "Epoch 47, CIFAR-10 Batch 3:  loss: 0.97582 accuracy: 0.5854\n",
      "Epoch 47, CIFAR-10 Batch 4:  loss: 0.993716 accuracy: 0.5852\n",
      "Epoch 47, CIFAR-10 Batch 5:  loss: 1.04206 accuracy: 0.588\n",
      "Epoch 48, CIFAR-10 Batch 1:  loss: 1.10722 accuracy: 0.5888\n",
      "Epoch 48, CIFAR-10 Batch 2:  loss: 1.06402 accuracy: 0.587\n",
      "Epoch 48, CIFAR-10 Batch 3:  loss: 0.973961 accuracy: 0.587\n",
      "Epoch 48, CIFAR-10 Batch 4:  loss: 0.972138 accuracy: 0.5948\n",
      "Epoch 48, CIFAR-10 Batch 5:  loss: 1.03041 accuracy: 0.588\n",
      "Epoch 49, CIFAR-10 Batch 1:  loss: 1.09369 accuracy: 0.5932\n",
      "Epoch 49, CIFAR-10 Batch 2:  loss: 1.04433 accuracy: 0.5926\n",
      "Epoch 49, CIFAR-10 Batch 3:  loss: 0.965097 accuracy: 0.5886\n",
      "Epoch 49, CIFAR-10 Batch 4:  loss: 0.969417 accuracy: 0.5924\n",
      "Epoch 49, CIFAR-10 Batch 5:  loss: 1.02229 accuracy: 0.5892\n",
      "Epoch 50, CIFAR-10 Batch 1:  loss: 1.09327 accuracy: 0.5924\n",
      "Epoch 50, CIFAR-10 Batch 2:  loss: 1.03856 accuracy: 0.5902\n",
      "Epoch 50, CIFAR-10 Batch 3:  loss: 0.954265 accuracy: 0.5922\n",
      "Epoch 50, CIFAR-10 Batch 4:  loss: 0.964971 accuracy: 0.5928\n",
      "Epoch 50, CIFAR-10 Batch 5:  loss: 1.02278 accuracy: 0.5912\n"
     ]
    }
   ],
   "source": [
    "\"\"\"\n",
    "DON'T MODIFY ANYTHING IN THIS CELL\n",
    "\"\"\"\n",
    "save_model_path = './image_classification'\n",
    "\n",
    "print('Training...')\n",
    "with tf.Session() as sess:\n",
    "    # Initializing the variables\n",
    "    sess.run(tf.global_variables_initializer())\n",
    "    \n",
    "    # Training cycle\n",
    "    for epoch in range(epochs):\n",
    "        # Loop over all batches\n",
    "        n_batches = 5\n",
    "        for batch_i in range(1, n_batches + 1):\n",
    "            for batch_features, batch_labels in helper.load_preprocess_training_batch(batch_i, batch_size):\n",
    "                train_neural_network(sess, optimizer, keep_probability, batch_features, batch_labels)\n",
    "            print('Epoch {:>2}, CIFAR-10 Batch {}:  '.format(epoch + 1, batch_i), end='')\n",
    "            print_stats(sess, batch_features, batch_labels, cost, accuracy)\n",
    "            \n",
    "    # Save Model\n",
    "    saver = tf.train.Saver()\n",
    "    save_path = saver.save(sess, save_model_path)"
   ]
  },
  {
   "cell_type": "markdown",
   "metadata": {},
   "source": [
    "# Checkpoint\n",
    "The model has been saved to disk.\n",
    "## Test Model\n",
    "Test your model against the test dataset.  This will be your final accuracy. You should have an accuracy greater than 50%. If you don't, keep tweaking the model architecture and parameters."
   ]
  },
  {
   "cell_type": "code",
   "execution_count": 53,
   "metadata": {},
   "outputs": [
    {
     "name": "stdout",
     "output_type": "stream",
     "text": [
      "INFO:tensorflow:Restoring parameters from ./image_classification\n",
      "Testing Accuracy: 0.5949019474141738\n",
      "\n"
     ]
    },
    {
     "data": {
      "image/png": "[encoded data removed]",
      "text/plain": [
       "<matplotlib.figure.Figure at 0xcb960b8>"
      ]
     },
     "metadata": {
      "image/png": {
       "height": 319,
       "width": 355
      }
     },
     "output_type": "display_data"
    }
   ],
   "source": [
    "\"\"\"\n",
    "DON'T MODIFY ANYTHING IN THIS CELL\n",
    "\"\"\"\n",
    "%matplotlib inline\n",
    "%config InlineBackend.figure_format = 'retina'\n",
    "\n",
    "import tensorflow as tf\n",
    "import pickle\n",
    "import helper\n",
    "import random\n",
    "\n",
    "# Set batch size if not already set\n",
    "try:\n",
    "    if batch_size:\n",
    "        pass\n",
    "except NameError:\n",
    "    batch_size = 64\n",
    "\n",
    "save_model_path = './image_classification'\n",
    "n_samples = 4\n",
    "top_n_predictions = 3\n",
    "\n",
    "def test_model():\n",
    "    \"\"\"\n",
    "    Test the saved model against the test dataset\n",
    "    \"\"\"\n",
    "\n",
    "    test_features, test_labels = pickle.load(open('preprocess_test.p', mode='rb'))\n",
    "    loaded_graph = tf.Graph()\n",
    "\n",
    "    with tf.Session(graph=loaded_graph) as sess:\n",
    "        # Load model\n",
    "        loader = tf.train.import_meta_graph(save_model_path + '.meta')\n",
    "        loader.restore(sess, save_model_path)\n",
    "\n",
    "        # Get Tensors from loaded model\n",
    "        loaded_x = loaded_graph.get_tensor_by_name('x:0')\n",
    "        loaded_y = loaded_graph.get_tensor_by_name('y:0')\n",
    "        loaded_keep_prob = loaded_graph.get_tensor_by_name('keep_prob:0')\n",
    "        loaded_logits = loaded_graph.get_tensor_by_name('logits:0')\n",
    "        loaded_acc = loaded_graph.get_tensor_by_name('accuracy:0')\n",
    "        \n",
    "        # Get accuracy in batches for memory limitations\n",
    "        test_batch_acc_total = 0\n",
    "        test_batch_count = 0\n",
    "        \n",
    "        for test_feature_batch, test_label_batch in helper.batch_features_labels(test_features, test_labels, batch_size):\n",
    "            test_batch_acc_total += sess.run(\n",
    "                loaded_acc,\n",
    "                feed_dict={loaded_x: test_feature_batch, loaded_y: test_label_batch, loaded_keep_prob: 1.0})\n",
    "            test_batch_count += 1\n",
    "\n",
    "        print('Testing Accuracy: {}\\n'.format(test_batch_acc_total/test_batch_count))\n",
    "\n",
    "        # Print Random Samples\n",
    "        random_test_features, random_test_labels = tuple(zip(*random.sample(list(zip(test_features, test_labels)), n_samples)))\n",
    "        random_test_predictions = sess.run(\n",
    "            tf.nn.top_k(tf.nn.softmax(loaded_logits), top_n_predictions),\n",
    "            feed_dict={loaded_x: random_test_features, loaded_y: random_test_labels, loaded_keep_prob: 1.0})\n",
    "        helper.display_image_predictions(random_test_features, random_test_labels, random_test_predictions)\n",
    "\n",
    "\n",
    "test_model()"
   ]
  },
  {
   "cell_type": "markdown",
   "metadata": {},
   "source": [
    "## Why 50-80% Accuracy?\n",
    "You might be wondering why you can't get an accuracy any higher. First things first, 50% isn't bad for a simple CNN.  Pure guessing would get you 10% accuracy. However, you might notice people are getting scores [well above 80%](http://rodrigob.github.io/are_we_there_yet/build/classification_datasets_results.html#43494641522d3130).  That's because we haven't taught you all there is to know about neural networks. We still need to cover a few more techniques.\n",
    "## Submitting This Project\n",
    "When submitting this project, make sure to run all the cells before saving the notebook.  Save the notebook file as \"dlnd_image_classification.ipynb\" and save it as a HTML file under \"File\" -> \"Download as\".  Include the \"helper.py\" and \"problem_unittests.py\" files in your submission."
   ]
  }
 ],
 "metadata": {
  "anaconda-cloud": {},
  "kernelspec": {
   "display_name": "Python 3",
   "language": "python",
   "name": "python3"
  },
  "language_info": {
   "codemirror_mode": {
    "name": "ipython",
    "version": 3
   },
   "file_extension": ".py",
   "mimetype": "text/x-python",
   "name": "python",
   "nbconvert_exporter": "python",
   "pygments_lexer": "ipython3",
   "version": "3.5.3"
  }
 },
 "nbformat": 4,
 "nbformat_minor": 1
}
